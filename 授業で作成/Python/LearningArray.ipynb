{
 "cells": [
  {
   "cell_type": "markdown",
   "id": "33c849cf",
   "metadata": {},
   "source": [
    "# 関数クラス"
   ]
  },
  {
   "cell_type": "code",
   "execution_count": 34,
   "id": "f9348691",
   "metadata": {},
   "outputs": [],
   "source": [
    "class MathFunction:\n",
    "    \n",
    "    def __init__(self,first,second):\n",
    "        self.first = first\n",
    "        self.second = second\n",
    "    \n",
    "    #@classmethod\n",
    "    #def PlusProcess(self):\n",
    "    #    return self.first+self.second\n",
    "    #@classmethod\n",
    "    #def MinusProcess(self):\n",
    "    #    return self.first-self.second\n",
    "    #@classmethod\n",
    "    #def TimesProcess(self):\n",
    "    #    return self.first*self.second\n",
    "    #@classmethod\n",
    "    #def DivideProcess(self):\n",
    "    #    return self.first/self.second\n",
    "    #@classmethod\n",
    "    #def __del__(self):\n",
    "    #    print(\"finish\")"
   ]
  },
  {
   "cell_type": "code",
   "execution_count": 35,
   "id": "8c75877d",
   "metadata": {},
   "outputs": [
    {
     "name": "stdout",
     "output_type": "stream",
     "text": [
      "finish\n"
     ]
    }
   ],
   "source": [
    "x1 = 20\n",
    "x2 = 10\n",
    "seed = MathFunction(x1,x2)\n",
    "plus = seed.first+seed.second\n",
    "minus = seed.first-seed.second\n",
    "times = seed.first*seed.second\n",
    "divide = seed.first/seed.second\n",
    "#plus = seed.PlusProcess()\n",
    "#minus = seed.MinusProcess()\n",
    "#times = seed.TimesProcess()\n",
    "#divide = seed.DivideProcess()"
   ]
  },
  {
   "cell_type": "code",
   "execution_count": 36,
   "id": "cfa88220",
   "metadata": {},
   "outputs": [
    {
     "name": "stdout",
     "output_type": "stream",
     "text": [
      "plus is 30 minus is 10 times is 200 divide is 2.0\n"
     ]
    }
   ],
   "source": [
    "print(\"plus is \"+str(plus)+\" minus is \"+str(minus)+\" times is \"+str(times)+\" divide is \"+str(divide))\n",
    "del seed"
   ]
  },
  {
   "cell_type": "code",
   "execution_count": 74,
   "id": "4e091212",
   "metadata": {},
   "outputs": [
    {
     "name": "stdout",
     "output_type": "stream",
     "text": [
      "this is a static method\n",
      "Child\n"
     ]
    }
   ],
   "source": [
    "class Parent:\n",
    "    parent_val = \"Parent\" \n",
    "    def parent_function(self):\n",
    "        print(\"ParentMethod:\"+self.parent_val)\n",
    "\n",
    "class Child(Parent):\n",
    "    child_val = \"Child\"\n",
    "    def child_function(self):\n",
    "        print(\"ChildMethod:\"+self.child_val)\n",
    "    \n",
    "    def parent_function(self):\n",
    "        super().parent_function()\n",
    "        self.child_function()\n",
    "    \n",
    "    @classmethod\n",
    "    def check_function(cls):\n",
    "        print(cls.child_val)\n",
    "    @staticmethod\n",
    "    def static_method():\n",
    "        print(\"this is a static method\")\n",
    "class Adult:\n",
    "    def adult_function(self):\n",
    "        print(\"Adult\")\n",
    "\n",
    "Child.static_method()\n",
    "Child.check_function()"
   ]
  },
  {
   "cell_type": "code",
   "execution_count": null,
   "id": "d56539d0",
   "metadata": {},
   "outputs": [],
   "source": []
  }
 ],
 "metadata": {
  "kernelspec": {
   "display_name": "Python 3 (ipykernel)",
   "language": "python",
   "name": "python3"
  },
  "language_info": {
   "codemirror_mode": {
    "name": "ipython",
    "version": 3
   },
   "file_extension": ".py",
   "mimetype": "text/x-python",
   "name": "python",
   "nbconvert_exporter": "python",
   "pygments_lexer": "ipython3",
   "version": "3.8.12"
  }
 },
 "nbformat": 4,
 "nbformat_minor": 5
}
