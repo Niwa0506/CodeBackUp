{
 "cells": [
  {
   "cell_type": "markdown",
   "metadata": {},
   "source": [
    "# メディア情報学実験 資料ノート5"
   ]
  },
  {
   "cell_type": "markdown",
   "metadata": {},
   "source": [
    "## パターン識別編（その4）\n",
    "\n",
    "それでは手書き文字データセット MNIST の識別を行ってみましょう\n",
    "\n",
    "このノートは解答がわからなかった人，解答の方針が立たない人向けのノートです．\n",
    "\n",
    "1. 上から順に読んで（重要），\n",
    "2. セルを実行していってください．\n",
    "3. 理解できない場合は，TA を呼ぶか，先生に質問を投げるかしてください．\n",
    "4. 自分の演習ノートのページにコードを真似して貼り付けしてください"
   ]
  },
  {
   "cell_type": "code",
   "execution_count": null,
   "metadata": {},
   "outputs": [],
   "source": [
    "import os\n",
    "\n",
    "# proxyの設定．\n",
    "# keras.datasetsでは，datasetを直接ダウンロードするので，学内マシンからは通常必要．\n",
    "os.environ[\"http_proxy\"] = \"http://proxy.uec.ac.jp:8080/\"\n",
    "os.environ[\"https_proxy\"] = \"http://proxy.uec.ac.jp:8080/\"\n",
    "# os.environ[\"CUDA_VISIBLE_DEVICES\"] = \"0\"    # IEDの場合，必要に応じて指定．未指定はランダムに割り当てられる．"
   ]
  },
  {
   "cell_type": "code",
   "execution_count": 18,
   "metadata": {},
   "outputs": [],
   "source": [
    "import numpy as np\n",
    "import matplotlib.pylab as plt\n",
    "from tensorflow import keras\n",
    "from tensorflow.keras.datasets import mnist"
   ]
  },
  {
   "cell_type": "markdown",
   "metadata": {},
   "source": [
    "MNIST のデータセットの読み込みを `tensorflow.keras.datasets.mnist.load_data()` で行うと，学習用の文字データとラベル，テスト用の文字データとラベルが帰ってくる"
   ]
  },
  {
   "cell_type": "code",
   "execution_count": 19,
   "metadata": {},
   "outputs": [],
   "source": [
    "# データセットの読み込み\n",
    "(x_train, y_train), (x_test, y_test) = mnist.load_data()\n",
    "\n",
    "# 数値データは 28 x 28 の画素からなり， 画素値は　[0, 255] の数値．　画素値が大きいと取り扱いにくいので，全部 [0, 1] へ標準化\n",
    "\n",
    "x_train = x_train.astype('float32')\n",
    "x_test = x_test.astype('float32')\n",
    "\n",
    "x_train /= 255\n",
    "x_test /= 255"
   ]
  },
  {
   "cell_type": "markdown",
   "metadata": {},
   "source": [
    "### これで下準備完了\n",
    "\n",
    "(x_train, y_train) にデータが入っていて，(x_test, y_test) に評価用のデータが入っている\n",
    "\n",
    "ためしにデータを表示させt見る"
   ]
  },
  {
   "cell_type": "code",
   "execution_count": 20,
   "metadata": {},
   "outputs": [
    {
     "name": "stdout",
     "output_type": "stream",
     "text": [
      "label =  5\n"
     ]
    },
    {
     "data": {
      "text/plain": [
       "<matplotlib.colorbar.Colorbar at 0x7fd5ffd44fd0>"
      ]
     },
     "execution_count": 20,
     "metadata": {},
     "output_type": "execute_result"
    },
    {
     "data": {
      "image/png": "[encoded data removed]",
      "text/plain": [
       "<Figure size 432x288 with 2 Axes>"
      ]
     },
     "metadata": {
      "needs_background": "light"
     },
     "output_type": "display_data"
    }
   ],
   "source": [
    "# 試しに x_train の０番目の文字を表示させてみる\n",
    "\n",
    "plt.imshow(x_train[0])\n",
    "print('label = ', y_train[0])\n",
    "plt.colorbar()"
   ]
  },
  {
   "cell_type": "markdown",
   "metadata": {},
   "source": [
    "データの次元が 28 x 28 だが，次元が大きくなっただけで\n",
    "ロジスティック回帰は使えるので試す．\n",
    "\n",
    "$f(x; w) = \\sigma( w_1 x + w_0)$ の $w_1$ がベクトルになり $w_1 x$ の演算が内積になるのは２変数のときと一緒．\n",
    "\n",
    "\n",
    "大きく変わるのは，分類が１０クラス分類になるところで，\n",
    "この場合は，活性化関数には 'softmax' を使うところが異なります．\n",
    "\n",
    "このような多クラス分類で `softmax` をロス関数として使う場合，ロス関数も\n",
    "`binary_crossentropy` を拡張した `categorical_crossentropy` を使う．\n",
    "ここらへんの理屈は知りたい人は質問してください．\n",
    "\n",
    "ロス関数の本質部分である\n",
    "\n",
    "## モデル $f(x_n; w)$ のロスが小さくなるように $w$ を求める．\n",
    "\n",
    "という部分は変わりません．"
   ]
  },
  {
   "cell_type": "markdown",
   "metadata": {},
   "source": [
    "## Keras + TensorFlow を用いた解法\n",
    "\n",
    "結構計算時間かかります．"
   ]
  },
  {
   "cell_type": "code",
   "execution_count": 21,
   "metadata": {},
   "outputs": [],
   "source": [
    "from tensorflow import keras\n",
    "from tensorflow.keras.models import Sequential\n",
    "from tensorflow.keras.layers import Dense, Activation\n",
    "from tensorflow.keras.utils import to_categorical"
   ]
  },
  {
   "cell_type": "code",
   "execution_count": 22,
   "metadata": {},
   "outputs": [],
   "source": [
    "# ラベルデータを tensorflow の形式に合致するよう変換 \n",
    "\n",
    "# データは， 28x 28 =784 次元で，２次元配列の形をしている意味は今はないので，\n",
    "# reshape で１次元になおしてしまおう\n",
    "\n",
    "input_shape = 28 * 28\n",
    "x_train = x_train.reshape(60000, input_shape)\n",
    "x_test = x_test.reshape(10000, input_shape)\n",
    "\n",
    "# 他クラス分類ように y をカテゴリカルな one-hot-vector に変換．\n",
    "# 10個の変数の所定位置にフラグを立てて変数値を表すやりかた．\n",
    "num_classes = 10\n",
    "y_train = to_categorical(y_train, num_classes)\n",
    "y_test = to_categorical(y_test, num_classes)\n",
    "\n",
    "# print(y_train[0].shape) # 形状を確認するのは重要"
   ]
  },
  {
   "cell_type": "code",
   "execution_count": 23,
   "metadata": {},
   "outputs": [],
   "source": [
    "# モデルの構築は今までと一緒\n",
    "\n",
    "model = Sequential()   # 階層型のモデルを選択\n",
    "model.add(Dense(num_classes, input_shape=(input_shape,), use_bias=True)) # 入力がinput_shape, 出力が num_classes 個\n",
    "model.add(Activation('softmax')) # 活性化関数を softmax へ\n",
    "\n",
    "model.compile(loss='categorical_crossentropy',  optimizer='adam') #最適化手法を指定"
   ]
  },
  {
   "cell_type": "code",
   "execution_count": null,
   "metadata": {},
   "outputs": [],
   "source": [
    "# 学習によるパラメータフィット(時間かかります)\n",
    "hist = model.fit(x_train, y_train, epochs=8192, batch_size=100, verbose=0)"
   ]
  },
  {
   "cell_type": "code",
   "execution_count": null,
   "metadata": {},
   "outputs": [],
   "source": [
    "# ロスの値が学習によってどう変わるかを表示\n",
    "\n",
    "plt.plot(hist.history['loss'])\n",
    "#plt.semilogy(hist.history['loss'])\n",
    "plt.title('Loss Evolution')\n",
    "plt.xlabel('Epochs')\n",
    "plt.ylabel('loss')\n",
    "plt.grid()"
   ]
  },
  {
   "cell_type": "markdown",
   "metadata": {},
   "source": [
    "かなり頑張って収束しているぽい．\n",
    "とりあえず，いくつかのテストサンプルで予測してみる\n",
    "\n",
    "予測は，1-hot vector 表現として出てくる\n",
    "クラス番号をしりたい"
   ]
  },
  {
   "cell_type": "code",
   "execution_count": null,
   "metadata": {},
   "outputs": [],
   "source": [
    "p = 0   # パターン番号（ここを適当に変えると別のパターンをテストできる\n",
    "\n",
    "# print('真値の 1-hot-vector 表現', y_test[p])\n",
    "print('True label', np.argmax(y_test[p]))\n",
    "print('Estimate label', np.argmax(model.predict(x_test[p:p+1])))\n",
    "\n",
    "plt.imshow(x_test[p].reshape(28, 28))\n",
    "plt.colorbar()"
   ]
  },
  {
   "cell_type": "markdown",
   "metadata": {},
   "source": [
    "じゃ，統計を採ってみよう"
   ]
  },
  {
   "cell_type": "code",
   "execution_count": null,
   "metadata": {},
   "outputs": [],
   "source": [
    "#y_predict = model.predict_classes(x_test)  #predict_classes が deprecated なので変更\n",
    "y_predict = np.argmax(model.predict(x_test), axis=-1)\n",
    "\n",
    "# テストのラベルは 1-hot-vector になっているので 差分をとる\n",
    "residual = to_categorical(y_predict) - y_test\n",
    "\n",
    "# 各行を見てって，すべてが０であれば，正しく予測できているが，\n",
    "# そうでない場合は間違っている．\n",
    "# とりあえず，間違いの個数をピックアップ\n",
    "\n",
    "errnum = residual.max(axis=1).sum()\n",
    "\n",
    "# １0000 個中の間違い個数の割合がご識別率\n",
    "print( \"Error rate = %.3f\" % (errnum / 10000))"
   ]
  },
  {
   "cell_type": "markdown",
   "metadata": {},
   "source": [
    "１割弱は間違い，適当に作ってる割には，まぁまぁの成績かな"
   ]
  }
 ],
 "metadata": {
  "kernelspec": {
   "display_name": "Python 3 (ipykernel)",
   "language": "python",
   "name": "python3"
  },
  "language_info": {
   "codemirror_mode": {
    "name": "ipython",
    "version": 3
   },
   "file_extension": ".py",
   "mimetype": "text/x-python",
   "name": "python",
   "nbconvert_exporter": "python",
   "pygments_lexer": "ipython3",
   "version": "3.8.12"
  }
 },
 "nbformat": 4,
 "nbformat_minor": 4
}
