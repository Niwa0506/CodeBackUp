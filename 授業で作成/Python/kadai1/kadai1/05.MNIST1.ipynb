{
 "cells": [
  {
   "cell_type": "markdown",
   "metadata": {},
   "source": [
    "# 演習1-5"
   ]
  },
  {
   "cell_type": "markdown",
   "metadata": {},
   "source": [
    "## パターン識別編（その4）\n",
    "\n",
    "それでは手書き文字データセット MNIST の識別を行ってみましょう\n",
    "わからない場合や方針が立たない場合は，PracticeHint フォルダの中にある同名のファイルを眺めてみてください"
   ]
  },
  {
   "cell_type": "code",
   "execution_count": 1,
   "metadata": {},
   "outputs": [],
   "source": [
    "# 下準備\n",
    "import os\n",
    "\n",
    "# proxyの設定．\n",
    "# keras.datasetsでは，datasetを直接ダウンロードするので，学内マシンからは通常必要．\n",
    "os.environ[\"http_proxy\"] = \"http://proxy.uec.ac.jp:8080/\"\n",
    "os.environ[\"https_proxy\"] = \"http://proxy.uec.ac.jp:8080/\"\n",
    "# os.environ[\"CUDA_VISIBLE_DEVICES\"] = \"0\"    # IEDの場合，必要に応じて指定．未指定はランダムに割り当てられる．"
   ]
  },
  {
   "cell_type": "code",
   "execution_count": 2,
   "metadata": {},
   "outputs": [],
   "source": [
    "import numpy as np\n",
    "import matplotlib.pylab as plt\n",
    "from tensorflow import keras\n",
    "from tensorflow.keras.datasets import mnist"
   ]
  },
  {
   "cell_type": "markdown",
   "metadata": {},
   "source": [
    "MNIST のデータセットの読み込みを `keras.datasets.mnist.load_data()` で行うと，学習用の文字データとラベル，テスト用の文字データとラベルが返ってくる"
   ]
  },
  {
   "cell_type": "code",
   "execution_count": 3,
   "metadata": {},
   "outputs": [],
   "source": [
    "# データセットの読み込み\n",
    "(x_train, y_train), (x_test, y_test) = mnist.load_data()\n",
    "\n",
    "# 数値データは 28 x 28 の画素からなり， 画素値は　[0, 255] の数値．　画素値が大きいと取り扱いにくいので，全部 [0, 1] へ標準化\n",
    "\n",
    "x_train = x_train.astype('float32')\n",
    "x_test = x_test.astype('float32')\n",
    "\n",
    "x_train /= 255\n",
    "x_test /= 255"
   ]
  },
  {
   "cell_type": "markdown",
   "metadata": {},
   "source": [
    "### これで下準備完了\n",
    "\n",
    "(x_train, y_train) にデータが入っていて，(x_test, y_test) に評価用のデータが入っている\n",
    "\n",
    "ためしにデータを表示させt見る"
   ]
  },
  {
   "cell_type": "code",
   "execution_count": 4,
   "metadata": {},
   "outputs": [
    {
     "name": "stdout",
     "output_type": "stream",
     "text": [
      "label =  5\n"
     ]
    },
    {
     "data": {
      "text/plain": [
       "<matplotlib.colorbar.Colorbar at 0x7fb2d89dc3a0>"
      ]
     },
     "execution_count": 4,
     "metadata": {},
     "output_type": "execute_result"
    },
    {
     "data": {
      "image/png": "[encoded data removed]",
      "text/plain": [
       "<Figure size 432x288 with 2 Axes>"
      ]
     },
     "metadata": {
      "needs_background": "light"
     },
     "output_type": "display_data"
    }
   ],
   "source": [
    "# 試しに　 x_train の０番目の文字を表示させてみる\n",
    "\n",
    "plt.imshow(x_train[0])\n",
    "print('label = ', y_train[0])\n",
    "plt.colorbar()"
   ]
  },
  {
   "cell_type": "markdown",
   "metadata": {},
   "source": [
    "データの次元が 28 x 28 だが，次元が大きくなっただけなので\n",
    "ロジスティック回帰は使えるので試す．\n",
    "\n",
    "$f(x; w) = \\sigma( w_1 x + w_0)$ の $w_1$ がベクトルになり $w_1 x$ の演算が内積になるのは２変数のときと一緒．\n",
    "\n",
    "\n",
    "大きく変わるのは，\n",
    "\n",
    "* 分類が１０クラス分類になるところ,この場合は，活性化関数には 'softmax' を使うこと\n",
    "* ロス関数も カテゴリ分類のロス関数 'categorical_crossentropy' を使う．\n",
    "\n",
    "ここらへんの理屈は知りたい人は質問してください．\n",
    "\n",
    "本質部分である\n",
    "\n",
    "## モデル $f(x_n; w)$ のロスが小さくなるように $w$ を求める．\n",
    "\n",
    "という部分は変わりません．"
   ]
  },
  {
   "cell_type": "markdown",
   "metadata": {},
   "source": [
    "## Keras + TensorFlow を用いて，MNISTデータセットをロジスティック回帰を用いて分類しなさい．\n",
    "\n",
    "ロジスティック回帰に関しては演習 1-3 を参照のこと"
   ]
  },
  {
   "cell_type": "code",
   "execution_count": 5,
   "metadata": {},
   "outputs": [],
   "source": [
    "from tensorflow import keras\n",
    "from tensorflow.keras.models import Sequential\n",
    "from tensorflow.keras.layers import Dense, Activation\n",
    "from tensorflow.keras.utils import to_categorical"
   ]
  },
  {
   "cell_type": "code",
   "execution_count": 6,
   "metadata": {},
   "outputs": [
    {
     "name": "stdout",
     "output_type": "stream",
     "text": [
      "(10,)\n"
     ]
    }
   ],
   "source": [
    "# ラベルデータを tensorflow の形式に合致するよう変換 \n",
    "\n",
    "# データは， 28x 28 =784 次元で，２次元配列の形をしている意味は今はないので，\n",
    "# reshape で１次元になおしてしまおう\n",
    "\n",
    "input_shape = 28 * 28\n",
    "x_train = x_train.reshape(60000, input_shape)\n",
    "x_test = x_test.reshape(10000, input_shape)\n",
    "\n",
    "# 他クラス分類ように y をカテゴリカルな変数に変換\n",
    "num_classes = 10\n",
    "y_train = to_categorical(y_train, 10)\n",
    "y_test = to_categorical(y_test, 10)"
   ]
  },
  {
   "cell_type": "markdown",
   "metadata": {},
   "source": [
    "モデル構築は演習1-3 とほぼ一緒だけれども，多クラス分類になっている点が少々事情が異なる．演習1-3 のロジスティック回帰では，2クラス分類だったのが，今度は10クラス分類となるため，出力に10個のユニットを配置して，各ユニットがクラスを表現するようにする．\n",
    "このため，0 番目のクラスは　`[1,0,0,0,0,0,0,0,0,0]`, 1番目のクラスは `[0, 1, 0, 0, 0, 0, 0, 0, 0, 0]` のようにユニットの 0/1 でクラスを表現するようになる．（この表現を 1-hot-vector と呼んだりする）\n",
    "この変換を行ってくれるのが `to_categorical` メソッドです．\n",
    "\n",
    "さらに最終ユニットの出力が確率となるようにするために，ユニットの出力活性に `softmax` と呼ばれる関数を導入する．これは，多クラス分類のロジスティック関数みたいなものと思えばよいです．\n",
    "それで，`softmax` を導入するとロス関数の形もかわって `categorical_crossentropy` という範疇にすることになります．\n",
    "詳しくは `PracticeHint/` を参照のこと"
   ]
  },
  {
   "cell_type": "code",
   "execution_count": 7,
   "metadata": {},
   "outputs": [
    {
     "name": "stderr",
     "output_type": "stream",
     "text": [
      "2022-01-27 03:33:09.193722: I tensorflow/core/platform/cpu_feature_guard.cc:151] This TensorFlow binary is optimized with oneAPI Deep Neural Network Library (oneDNN) to use the following CPU instructions in performance-critical operations:  AVX2 FMA\n",
      "To enable them in other operations, rebuild TensorFlow with the appropriate compiler flags.\n"
     ]
    }
   ],
   "source": [
    "# 以下にコードを書いていくこと\n",
    "model = Sequential()   \n",
    "model.add(Dense(num_classes, input_shape=(input_shape,), use_bias=True)) \n",
    "model.add(Activation('softmax'))\n",
    "model.compile(loss='categorical_crossentropy',  optimizer='adam')"
   ]
  },
  {
   "cell_type": "code",
   "execution_count": 8,
   "metadata": {},
   "outputs": [],
   "source": [
    "#デバックの為分割\n",
    "hist = model.fit(x_train, y_train, epochs=8192, batch_size=100, verbose=0)"
   ]
  },
  {
   "cell_type": "code",
   "execution_count": 9,
   "metadata": {},
   "outputs": [
    {
     "data": {
      "image/png": "[encoded data removed]",
      "text/plain": [
       "<Figure size 432x288 with 1 Axes>"
      ]
     },
     "metadata": {
      "needs_background": "light"
     },
     "output_type": "display_data"
    }
   ],
   "source": [
    "# ロスの値が学習によってどう変わるかを表示すること\n",
    "plt.plot(hist.history['loss'])\n",
    "plt.title('Loss Evolution')\n",
    "plt.xlabel('Epochs')\n",
    "plt.ylabel('Loss')\n",
    "plt.grid()"
   ]
  },
  {
   "cell_type": "code",
   "execution_count": 10,
   "metadata": {},
   "outputs": [
    {
     "ename": "TypeError",
     "evalue": "'function' object is not subscriptable",
     "output_type": "error",
     "traceback": [
      "\u001b[0;31m---------------------------------------------------------------------------\u001b[0m",
      "\u001b[0;31mTypeError\u001b[0m                                 Traceback (most recent call last)",
      "\u001b[0;32m/var/folders/4f/ggbfqk617fx1hgntsc54k7w00000gn/T/ipykernel_67653/3590201455.py\u001b[0m in \u001b[0;36m<module>\u001b[0;34m\u001b[0m\n\u001b[1;32m      1\u001b[0m \u001b[0;31m# x_test[0, :] のパターンと，分類結果を表示しなさい\u001b[0m\u001b[0;34m\u001b[0m\u001b[0;34m\u001b[0m\u001b[0;34m\u001b[0m\u001b[0m\n\u001b[1;32m      2\u001b[0m \u001b[0mp\u001b[0m\u001b[0;34m=\u001b[0m\u001b[0;36m0\u001b[0m\u001b[0;34m\u001b[0m\u001b[0;34m\u001b[0m\u001b[0m\n\u001b[0;32m----> 3\u001b[0;31m \u001b[0mprint\u001b[0m\u001b[0;34m(\u001b[0m\u001b[0;34m'True Label'\u001b[0m\u001b[0;34m,\u001b[0m\u001b[0mnp\u001b[0m\u001b[0;34m.\u001b[0m\u001b[0margmax\u001b[0m\u001b[0;34m[\u001b[0m\u001b[0my_test\u001b[0m\u001b[0;34m[\u001b[0m\u001b[0mp\u001b[0m\u001b[0;34m]\u001b[0m\u001b[0;34m]\u001b[0m\u001b[0;34m)\u001b[0m\u001b[0;34m\u001b[0m\u001b[0;34m\u001b[0m\u001b[0m\n\u001b[0m\u001b[1;32m      4\u001b[0m \u001b[0mprint\u001b[0m\u001b[0;34m(\u001b[0m\u001b[0;34m'Estimate Label'\u001b[0m\u001b[0;34m,\u001b[0m\u001b[0mnp\u001b[0m\u001b[0;34m.\u001b[0m\u001b[0margmax\u001b[0m\u001b[0;34m[\u001b[0m\u001b[0mmodel\u001b[0m\u001b[0;34m.\u001b[0m\u001b[0mpredict\u001b[0m\u001b[0;34m(\u001b[0m\u001b[0mx_test\u001b[0m\u001b[0;34m[\u001b[0m\u001b[0mp\u001b[0m\u001b[0;34m:\u001b[0m\u001b[0mp\u001b[0m\u001b[0;34m+\u001b[0m\u001b[0;36m1\u001b[0m\u001b[0;34m]\u001b[0m\u001b[0;34m)\u001b[0m\u001b[0;34m]\u001b[0m\u001b[0;34m)\u001b[0m\u001b[0;34m\u001b[0m\u001b[0;34m\u001b[0m\u001b[0m\n\u001b[1;32m      5\u001b[0m \u001b[0mplt\u001b[0m\u001b[0;34m.\u001b[0m\u001b[0mimshow\u001b[0m\u001b[0;34m(\u001b[0m\u001b[0mx_test\u001b[0m\u001b[0;34m[\u001b[0m\u001b[0mp\u001b[0m\u001b[0;34m]\u001b[0m\u001b[0;34m.\u001b[0m\u001b[0mreshape\u001b[0m\u001b[0;34m(\u001b[0m\u001b[0;36m28\u001b[0m\u001b[0;34m,\u001b[0m\u001b[0;36m28\u001b[0m\u001b[0;34m)\u001b[0m\u001b[0;34m)\u001b[0m\u001b[0;34m\u001b[0m\u001b[0;34m\u001b[0m\u001b[0m\n",
      "\u001b[0;31mTypeError\u001b[0m: 'function' object is not subscriptable"
     ]
    }
   ],
   "source": [
    "# x_test[0, :] のパターンと，分類結果を表示しなさい\n",
    "p=0\n",
    "print('True Label',np.argmax[y_test[p]])\n",
    "print('Estimate Label',np.argmax[model.predict(x_test[p:p+1])])\n",
    "plt.imshow(x_test[p].reshape(28,28))\n",
    "plt.colorbar()"
   ]
  },
  {
   "cell_type": "code",
   "execution_count": null,
   "metadata": {},
   "outputs": [],
   "source": [
    "# x_test データがどの程度正しく分類できているかを評価しなさい\n",
    "y_predict = np.argmax(model.predict(x_test),axis=-1)\n",
    "residual = to_categorical(y_predict)-y_test\n",
    "\n",
    "errsum = residual.max(axis=1).sum()\n",
    "print( \"Error rate = %.3f\" % (errnum / 10000))\n",
    "print(\"Error rate = %.3f\" %(errnum/10000))"
   ]
  },
  {
   "cell_type": "markdown",
   "metadata": {},
   "source": [
    "## 考察\n",
    "演習の回答と照らして工夫したところがあれば，箇条書きで良いので以下にアピールしてください． \n",
    "例: パラメータを初期値から変えてみた，epoch数を増やしてみたなど"
   ]
  },
  {
   "cell_type": "code",
   "execution_count": null,
   "metadata": {},
   "outputs": [],
   "source": []
  }
 ],
 "metadata": {
  "kernelspec": {
   "display_name": "Python 3 (ipykernel)",
   "language": "python",
   "name": "python3"
  },
  "language_info": {
   "codemirror_mode": {
    "name": "ipython",
    "version": 3
   },
   "file_extension": ".py",
   "mimetype": "text/x-python",
   "name": "python",
   "nbconvert_exporter": "python",
   "pygments_lexer": "ipython3",
   "version": "3.8.12"
  }
 },
 "nbformat": 4,
 "nbformat_minor": 4
}
