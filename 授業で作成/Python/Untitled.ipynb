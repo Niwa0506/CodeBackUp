{
 "cells": [
  {
   "cell_type": "code",
   "execution_count": 1,
   "id": "d85a29bd",
   "metadata": {},
   "outputs": [],
   "source": [
    "import numpy as np\n",
    "import random\n",
    "import matplotlib.pyplot as plt\n",
    "import copy\n",
    "%matplotlib inline"
   ]
  },
  {
   "cell_type": "code",
   "execution_count": 2,
   "id": "792bee44",
   "metadata": {},
   "outputs": [
    {
     "name": "stdout",
     "output_type": "stream",
     "text": [
      "UTF-8\n"
     ]
    }
   ],
   "source": [
    "import locale\n",
    "\n",
    "print(locale.getpreferredencoding())"
   ]
  },
  {
   "cell_type": "code",
   "execution_count": 297,
   "id": "44bae3a8",
   "metadata": {},
   "outputs": [],
   "source": [
    "class Koma:\n",
    "    def __init__(self,mode0Move,mode1Move,komaType):\n",
    "        self.mode0Move = mode0Move\n",
    "        self.mode1Move = mode1Move\n",
    "        self.mode = 0\n",
    "        self.directions = self.mode0Move\n",
    "        self.type = komaType\n",
    "    \n",
    "    #コマの種類の取り出し\n",
    "    def GetType(self):\n",
    "        return self.type\n",
    "    def Translate(self,lst):\n",
    "        newLst = []\n",
    "        for l in lst:\n",
    "            if l < 0:\n",
    "                l = abs(l)%9\n",
    "                l = -l\n",
    "            else:\n",
    "                l = l%9\n",
    "            newLst.append(l)\n",
    "        return newLst\n",
    "    #進行可能かのチェック\n",
    "    def CheckDir(self,direction,player):\n",
    "        #動きとしてできるかの検証\n",
    "        x = 0\n",
    "        y = 0\n",
    "        if direction[0] > 0:\n",
    "            x = 0\n",
    "        elif direction[0]==0:\n",
    "            x = 1\n",
    "        else:\n",
    "            x = 2\n",
    "        if direction[1] > 0:\n",
    "            y = 2\n",
    "        elif direction[1] == 0:\n",
    "            y = 1\n",
    "        else:\n",
    "            y = 0\n",
    "        x = abs(x-player)\n",
    "        y = abs(y-player)\n",
    "        if self.directions[x][y] > 0:\n",
    "            return True\n",
    "        return False\n",
    "    \n",
    "    #移動可能方向の取り出し\n",
    "    def GetMove(self):\n",
    "        return self.directions\n",
    "        \n",
    "    #移動処理\n",
    "    def Move(self,position,direction,player):\n",
    "        Path = [position]\n",
    "        judge1 = self.CheckDir(direction,player)\n",
    "        if judge1:\n",
    "            Path = self.MakePath(Path,position,direction,player,x,y)\n",
    "        else:\n",
    "            print(\"その動きはできません\")\n",
    "        return Path\n",
    "    def GetMovableList(self,position,player,Board):\n",
    "        movableList = self.MovableList(position,player)\n",
    "        movableList = self.ReflectBoard(movableList,Board,position)\n",
    "        return movableList\n",
    "    #進行可能な方向へのリストを格納する\n",
    "    def MovableList(self,position,player):\n",
    "        movableList =[]\n",
    "        #全方向ベクトルに対して\n",
    "        for i in range(3):\n",
    "            for j in range(3):\n",
    "                if not i==1 or not j==1:\n",
    "                    direction = self.GetDirections(i,j)\n",
    "                    if not direction[0]==0 or not direction[1]==0:\n",
    "                        #print(direction)\n",
    "                        movableList.append(self.MakePath([],position,direction,player))\n",
    "        movableList = list(map(list,set(map(tuple,movableList))))\n",
    "        movableList = [x for x in movableList if x]\n",
    "        return movableList\n",
    "    \n",
    "    #進行可能方向へのベクトルを獲得する\n",
    "    def GetDirections(self,i,j):\n",
    "        direction = self.directions[i][j]\n",
    "        if direction == 0:\n",
    "            return (0,0)\n",
    "        else:\n",
    "            x = 0\n",
    "            y = 0\n",
    "            if i==0:\n",
    "                x = direction\n",
    "            elif i==1:\n",
    "                x = 0\n",
    "            else:\n",
    "                x = -direction\n",
    "            if j==0:\n",
    "                y = -direction\n",
    "            elif j==1:\n",
    "                y = 0\n",
    "            else:\n",
    "                y = direction\n",
    "            return (x,y)   \n",
    "    def MakePath(self,Path,position,direction,player):\n",
    "        playerCorrection = 1-player\n",
    "        #positionやdirectionが9以上の場合、8以内の値にする\n",
    "        position = self.Translate(position)\n",
    "        #print(direction)\n",
    "        direction = self.Translate(direction)\n",
    "        #x座標とy座標のスタート地点の設定\n",
    "        x_start = position[0]\n",
    "        y_start = position[1]\n",
    "        #x座標とy座標のゴール地点の設定\n",
    "        x_end = playerCorrection*direction[0]+position[0]\n",
    "        y_end = playerCorrection*direction[1]+position[1]\n",
    "        if x_start > x_end:\n",
    "            x_end -=1\n",
    "        else:\n",
    "            x_end +=1\n",
    "        if y_start > y_end:\n",
    "            y_end -=1\n",
    "        else:\n",
    "            y_end +=1\n",
    "        x_end,y_end = self.SetEnd(x_start,x_end,y_start,y_end)\n",
    "        #print(x_end)\n",
    "        #print(y_end)\n",
    "        #開始店が盤面上でなかった場合、エラー出力\n",
    "        if x_start < 0 or x_start > 8:\n",
    "            print(\"指定された座標は盤面ガイです\")\n",
    "            return Path\n",
    "        if y_start < 0 or y_start > 8:\n",
    "            print(\"指定された座標は盤面ガイです\")\n",
    "            return Path\n",
    "        #\n",
    "        step_x = 1\n",
    "        step_y = 1\n",
    "        if x_start > x_end:\n",
    "            step_x = -1\n",
    "        if y_start > y_end:\n",
    "            step_y = -1\n",
    "        #Pathの作成\n",
    "        prev_x = [10]\n",
    "        prev_y = [10]\n",
    "        x_end = int(x_end)\n",
    "        y_end = int(y_end)\n",
    "        for x in range(x_start,x_end,step_x):\n",
    "            for y in range(y_start,y_end,step_y):\n",
    "                judge_x = False\n",
    "                judge_y = False\n",
    "                #x\n",
    "                if direction[0]==0:\n",
    "                    if x-position[0]==0:\n",
    "                        judge_x = True\n",
    "                else:\n",
    "                    if x-position[0]!=0:\n",
    "                        if not x in prev_x:\n",
    "                            judge_x = True\n",
    "                #y        \n",
    "                if direction[1]==0:\n",
    "                    if y-position[1]==0:\n",
    "                        judge_y = True\n",
    "                else:\n",
    "                    if y-position[1]!=0:\n",
    "                        if not y in prev_y:\n",
    "                            judge_y = True\n",
    "                if judge_x and judge_y:\n",
    "                    prev_x.append(x)\n",
    "                    prev_y.append(y)\n",
    "                    Path.append((x,y))\n",
    "        direction_x = direction[0]\n",
    "        direction_y = direction[1]\n",
    "        if abs(direction_x) >0:\n",
    "            direction_x = direction[0]/abs(direction[0])\n",
    "        if abs(direction_y)>0:\n",
    "            direction_y = direction[1]/abs(direction[1])\n",
    "        return Path\n",
    "    \n",
    "    def SetEnd(self,x_start,x_end,y_start,y_end):\n",
    "        #n_x,n_y:それぞれの軸への方向の移動回数\n",
    "        n_x = 0\n",
    "        n_y = 0\n",
    "        #:flag_x,flag_y:盤面のはじにぶつかったか\n",
    "        flag_x = False\n",
    "        flag_y = False\n",
    "        #dixt_x,dict_y:それぞれの軸への進行方向\n",
    "        dict_x = 1\n",
    "        dict_y = 1\n",
    "        if x_start > x_end:\n",
    "            dict_x = -1\n",
    "        if y_start > y_end:\n",
    "            dict_y = -1\n",
    "        #x座標におけるオーバーフローがないかの確認\n",
    "        for i in range(x_start,x_end,dict_x):\n",
    "            if i < 0 or i > 8:\n",
    "                flag_x = True\n",
    "                break\n",
    "            n_x += 1\n",
    "        #y座標におけるオーバーフローがないかの確認\n",
    "        for i in range(y_start,y_end,dict_y):\n",
    "            if i < 0 or i > 8:\n",
    "                flag_y = True\n",
    "                break\n",
    "            n_y += 1\n",
    "        #オバーフローが発生しているならより早く発生している方に合わせる\n",
    "        if  flag_x or flag_y:\n",
    "            if flag_x and not flag_y:\n",
    "                #x座標,y座標におけるendを設定する\n",
    "                x_end = dict_x*n_x+x_start\n",
    "                y_end = dict_y*n_x+y_start\n",
    "            elif not flag_x and flag_y:\n",
    "                #x座標,y座標におけるendを設定する\n",
    "                x_end = dict_x*n_y+x_start\n",
    "                y_end = dict_y*n_y+y_start\n",
    "            elif flag_x and flag_y:\n",
    "                if n_x > n_y:\n",
    "                    #x座標,y座標におけるendを設定する\n",
    "                    x_end = dict_x*n_y+x_start\n",
    "                    y_end = dict_y*n_y+y_start\n",
    "                else:\n",
    "                    #x座標,y座標におけるendを設定する\n",
    "                    x_end = dict_x*n_x+x_start\n",
    "                    y_end = dict_y*n_x+y_start\n",
    "        return x_end,y_end\n",
    "    def ReflectBoard(self,movableList,Board,position):\n",
    "        newList = []\n",
    "        PlayerType = self.GetPlayerType(Board,position)\n",
    "        #print(PlayerType)\n",
    "        for path in movableList:\n",
    "            newPath = []\n",
    "            #print(\"path is \"+str(path))\n",
    "            IsProceed = True\n",
    "            for node in path:\n",
    "                if IsProceed:\n",
    "                    if int(Board[node[0],node[1]]) ==0:\n",
    "                        newPath.append(node)\n",
    "                    elif not PlayerType == self.GetPlayerType(Board,node):\n",
    "                        newPath.append(node)\n",
    "                        IsProceed = False\n",
    "                    else:\n",
    "                        IsProceed = False \n",
    "                else:\n",
    "                    break\n",
    "            if newPath:\n",
    "                newList.append(newPath)\n",
    "        return newList\n",
    "    def GetPlayerType(self,Board,position):\n",
    "        if int(Board[position[0],position[1]]) ==0:\n",
    "            return 0\n",
    "        elif int(Board[position[0],position[1]]) %11==0:\n",
    "            return 11\n",
    "        elif int(Board[position[0],position[1]]) %13==0:\n",
    "            return 13\n",
    "        else:\n",
    "            print(Board[position[0],position[1]])\n",
    "            print(\"上記のコマ情報は存在しません\")\n",
    "            return 0\n",
    "    #コマを反転させる\n",
    "    def ChangeMove(self):\n",
    "        self.mode = 1\n",
    "        self.directions = self.mode1Move"
   ]
  },
  {
   "cell_type": "code",
   "execution_count": 298,
   "id": "84883269",
   "metadata": {},
   "outputs": [],
   "source": [
    "class Fu(Koma):\n",
    "    def __init__(self):\n",
    "        self.mode0Move = [[0,1,0],[0,0,0],[0,0,0]]\n",
    "        self.mode1Move = [[1,1,1],[1,0,1],[0,1,0]]\n",
    "        super().__init__(self.mode0Move,self.mode1Move,komaType=\"Fu\")\n",
    "class Hisha(Koma):\n",
    "    def __init__(self):\n",
    "        self.mode0Move = [[0,8,0],[8,0,8],[0,8,0]]\n",
    "        self.mode1Move = [[1,8,1],[8,0,8],[0,8,0]]\n",
    "        super().__init__(self.mode0Move,self.mode1Move,komaType=\"Hisha\")\n",
    "        \n",
    "class Kaku(Koma):\n",
    "    def __init__(self):\n",
    "        self.mode0Move = [[8,0,8],[0,0,0],[8,0,8]]\n",
    "        self.mode1Move = [[8,1,8],[1,0,1],[8,1,8]]\n",
    "        super().__init__(self.mode0Move,self.mode1Move,komaType=\"Hisha\")\n",
    "class Gyoku(Koma):\n",
    "    def __init__(self):\n",
    "        self.mode0Move = [[1,1,1],[1,0,1],[1,1,1]]\n",
    "        self.mode1Move = [[1,1,1],[1,0,1],[1,1,1]]\n",
    "        super().__init__(self.mode0Move,self.mode1Move,komaType=\"Gyoku\")\n",
    "        \n",
    "class Gin(Koma):\n",
    "    def __init__(self):\n",
    "        self.mode0Move = [[1,1,1],[0,0,0],[1,0,1]]\n",
    "        self.mode1Move = [[1,1,1],[1,0,1],[1,1,1]]\n",
    "        super().__init__(self.mode0Move,self.mode1Move,komaType=\"Gin\")\n",
    "class Kin(Koma):\n",
    "    def __init__(self):\n",
    "        self.mode0Move = [[1,1,1],[1,0,1],[0,1,0]]\n",
    "        self.mode1Move = [[1,1,1],[1,0,1],[0,1,0]]\n",
    "        super().__init__(self.mode0Move,self.mode1Move,komaType=\"Kin\")\n",
    "        \n",
    "class Keima(Koma):\n",
    "    def __init__(self):\n",
    "        self.mode0Move = [[2,0,2],[0,0,0],[0,0,0]]\n",
    "        self.mode1Move = [[1,1,1],[1,0,1],[0,1,0]]\n",
    "        super().__init__(self.mode0Move,self.mode1Move,komaType=\"Keima\")\n",
    "        \n",
    "class Kyosha(Koma):\n",
    "    def __init__(self):\n",
    "        self.mode0Move = [[0,8,0],[0,0,0],[0,0,0]]\n",
    "        self.mode1Move = [[1,1,1],[1,0,1],[0,1,0]]\n",
    "        super().__init__(self.mode0Move,self.mode1Move,komaType=\"Kyosha\")\n",
    "        "
   ]
  },
  {
   "cell_type": "code",
   "execution_count": 299,
   "id": "445eb97e",
   "metadata": {},
   "outputs": [],
   "source": [
    "class Game:\n",
    "    def __init__(self):\n",
    "        self.Komas = {\"Fu\":1,\"Kyosha\":2,\"Keima\":3,\"Hisha\":4,\"Kaku\":5,\"Gin\":6,\"Kin\":7,\"Gyoku\":8}\n",
    "        self.Board = np.zeros((9,9))\n",
    "        self.SetBoard()\n",
    "        self.KomaMove = {1:Fu(),2:Kyosha(),3:Keima(),4:Hisha(),5:Kaku(),6:Gin(),7:Kin(),8:Gyoku()}\n",
    "        self.Direction = {\"UpLeft\":0,\"Up\":1,\"UpRight\":2,\"Left\":3,\"Right\":4,\"DownLeft\":5,\"Down\":6,\"DownRight\":7}\n",
    "    def SetBoard(self):\n",
    "        #歩\n",
    "        for i in range(9):\n",
    "            self.Board[2,i] = self.Komas[\"Fu\"]*11\n",
    "            self.Board[6,i] = self.Komas[\"Fu\"]*13\n",
    "        #飛車\n",
    "        self.Board[1,7] = self.Komas[\"Hisha\"]*11\n",
    "        self.Board[7,1] = self.Komas[\"Hisha\"]*13\n",
    "        \n",
    "        #角\n",
    "        self.Board[1,1] = self.Komas[\"Kaku\"]*11\n",
    "        self.Board[7,7] = self.Komas[\"Kaku\"]*13\n",
    "        \n",
    "        #香車\n",
    "        self.Board[0,0] = self.Komas[\"Kyosha\"]*11\n",
    "        self.Board[0,8] = self.Komas[\"Kyosha\"]*11\n",
    "        self.Board[8,0] = self.Komas[\"Kyosha\"]*13\n",
    "        self.Board[8,8] = self.Komas[\"Kyosha\"]*13\n",
    "        \n",
    "        #桂馬\n",
    "        self.Board[0,1] = self.Komas[\"Keima\"]*11\n",
    "        self.Board[0,7] = self.Komas[\"Keima\"]*11\n",
    "        self.Board[8,1] = self.Komas[\"Keima\"]*13\n",
    "        self.Board[8,7] = self.Komas[\"Keima\"]*13\n",
    "        \n",
    "        #銀\n",
    "        self.Board[0,2] = self.Komas[\"Gin\"]*11\n",
    "        self.Board[0,6] = self.Komas[\"Gin\"]*11\n",
    "        self.Board[8,2] = self.Komas[\"Gin\"]*13\n",
    "        self.Board[8,6] = self.Komas[\"Gin\"]*13\n",
    "        \n",
    "        #金\n",
    "        self.Board[0,3] = self.Komas[\"Kin\"]*11\n",
    "        self.Board[0,5] = self.Komas[\"Kin\"]*11\n",
    "        self.Board[8,3] = self.Komas[\"Kin\"]*13\n",
    "        self.Board[8,5] = self.Komas[\"Kin\"]*13\n",
    "        \n",
    "        #王\n",
    "        self.Board[0,4] = self.Komas[\"Gyoku\"]*11\n",
    "        self.Board[8,4] = self.Komas[\"Gyoku\"]*13\n",
    "        #初期配置変形\n",
    "        self.Board[2,4] = 0\n",
    "    def Start(self):\n",
    "        pass\n",
    "    def ChangeKomaBoard(self):\n",
    "        Board = np.zeros((9,9))\n",
    "        for j in range(9):\n",
    "            for i in range(9):\n",
    "                element = self.Board[i,j]\n",
    "                if element == 0:\n",
    "                    Board[i,j] = 0\n",
    "                elif element % 11==0:\n",
    "                    Board[i,j] = element/11\n",
    "                elif element % 13==0:\n",
    "                    Board[i,j] = element/13\n",
    "                else:\n",
    "                    print(\"存在しないはずのコマ情報が載っています\")\n",
    "        return Board\n",
    "    def GetBoard(self):\n",
    "        return self.Board\n",
    "    def PrintBoard(self):\n",
    "        Board = self.ChangeKomaBoard()\n",
    "        print(Board)\n",
    "    def GetKomaType(self):\n",
    "        pass\n",
    "    def CheckBoard(self,Path):\n",
    "        n = 0\n",
    "        Obstacle = 0\n",
    "        pre_Obstacle  = 0 \n",
    "        for pos in Path:\n",
    "            if n>0 and self.Board[pos[0],pos[1]]!=0:\n",
    "                Obstacle+=1\n",
    "                if pre_Obstacle==0:\n",
    "                    pre_Obstacle = n\n",
    "                if n != pre_Obstacle:\n",
    "                    print(\"障害物があります\")\n",
    "                    return True\n",
    "            n+=1\n",
    "        print(\"障害物はありません\")\n",
    "        return False\n",
    "    \n",
    "    def GetKomaMove(self):\n",
    "        return self.KomaMove\n",
    "    def BoardMove(self,position,direction,player):\n",
    "        #positionのコマ情報を取得\n",
    "        Koma = self.KomaMove[self.Board[position]]\n",
    "        #コマとして動くことができるかをチェックし移動通路を返す\n",
    "        Path = Koma.Move(position,direction,player,self.Board)\n",
    "        #移動中に障害物があるかをチェックする。\n",
    "        CheckObstacle = self.CheckBoard(Path)\n",
    "        #コマをとる処理を行う\n",
    "        if not CheckObstacle:\n",
    "            self.Board[newPosition] = self.Board[position]\n",
    "        if newPosition!=position:\n",
    "            self.Board[position]=0"
   ]
  },
  {
   "cell_type": "code",
   "execution_count": 300,
   "id": "7f8f2b72",
   "metadata": {},
   "outputs": [
    {
     "name": "stdout",
     "output_type": "stream",
     "text": [
      "[[2. 3. 6. 7. 8. 7. 6. 3. 2.]\n",
      " [0. 5. 0. 0. 0. 0. 0. 4. 0.]\n",
      " [1. 1. 1. 1. 0. 1. 1. 1. 1.]\n",
      " [0. 0. 0. 0. 0. 0. 0. 0. 0.]\n",
      " [0. 0. 0. 0. 0. 0. 0. 0. 0.]\n",
      " [0. 0. 0. 0. 0. 0. 0. 0. 0.]\n",
      " [1. 1. 1. 1. 1. 1. 1. 1. 1.]\n",
      " [0. 4. 0. 0. 0. 0. 0. 5. 0.]\n",
      " [2. 3. 6. 7. 8. 7. 6. 3. 2.]]\n"
     ]
    }
   ],
   "source": [
    "Shogi = Game()\n",
    "Board = Shogi.GetBoard()\n",
    "Shogi.PrintBoard()"
   ]
  },
  {
   "cell_type": "code",
   "execution_count": 301,
   "id": "7c0226c3",
   "metadata": {},
   "outputs": [],
   "source": [
    "Path = []\n",
    "position = (2,0)\n",
    "direction = (6,8)\n",
    "KomaMove=Shogi.GetKomaMove()\n",
    "Path = KomaMove[1].MakePath(Path,position,direction,0)"
   ]
  },
  {
   "cell_type": "code",
   "execution_count": 302,
   "id": "af196b82",
   "metadata": {},
   "outputs": [
    {
     "name": "stdout",
     "output_type": "stream",
     "text": [
      "[[2. 3. 6. 7. 8. 7. 6. 3. 2.]\n",
      " [0. 5. 0. 0. 0. 0. 0. 4. 0.]\n",
      " [1. 1. 1. 1. 0. 1. 1. 1. 1.]\n",
      " [0. 0. 0. 0. 0. 0. 0. 0. 0.]\n",
      " [0. 0. 0. 0. 0. 0. 0. 0. 0.]\n",
      " [0. 0. 0. 0. 0. 0. 0. 0. 0.]\n",
      " [1. 1. 1. 1. 1. 1. 1. 1. 1.]\n",
      " [0. 4. 0. 0. 0. 0. 0. 5. 0.]\n",
      " [2. 3. 6. 7. 8. 7. 6. 3. 2.]]\n"
     ]
    }
   ],
   "source": [
    "Shogi.PrintBoard()"
   ]
  },
  {
   "cell_type": "code",
   "execution_count": 303,
   "id": "719188ef",
   "metadata": {},
   "outputs": [],
   "source": [
    "movableList = KomaMove[1].MovableList(position,0)"
   ]
  },
  {
   "cell_type": "code",
   "execution_count": 304,
   "id": "33d0bef5",
   "metadata": {},
   "outputs": [
    {
     "name": "stdout",
     "output_type": "stream",
     "text": [
      "[[(3, 0)]]\n"
     ]
    }
   ],
   "source": [
    "print(movableList)"
   ]
  },
  {
   "cell_type": "code",
   "execution_count": 305,
   "id": "f4c0aee1",
   "metadata": {},
   "outputs": [
    {
     "name": "stdout",
     "output_type": "stream",
     "text": [
      "障害物はありません\n"
     ]
    },
    {
     "data": {
      "text/plain": [
       "False"
      ]
     },
     "execution_count": 305,
     "metadata": {},
     "output_type": "execute_result"
    }
   ],
   "source": [
    "move = movableList[0]\n",
    "Shogi.CheckBoard(move)"
   ]
  },
  {
   "cell_type": "code",
   "execution_count": 306,
   "id": "16feb01c",
   "metadata": {},
   "outputs": [
    {
     "name": "stdout",
     "output_type": "stream",
     "text": [
      "[(3, 0)]\n"
     ]
    }
   ],
   "source": [
    "print(move)"
   ]
  },
  {
   "cell_type": "code",
   "execution_count": 307,
   "id": "b38884ca",
   "metadata": {},
   "outputs": [],
   "source": [
    "XY_test = [(-1,9),(9,-1),(10,-1),(-1,10),(10,3),(3,10),(-1,-1),(10,10),(3,3)]\n",
    "direction_test = [(0,0),(1,0),(-1,0),(0,1),(0,-1)]\n",
    "assist = 1"
   ]
  },
  {
   "cell_type": "code",
   "execution_count": 308,
   "id": "bdd2c9cf",
   "metadata": {},
   "outputs": [
    {
     "name": "stdout",
     "output_type": "stream",
     "text": [
      "[[(1, 4), (2, 4), (3, 4), (4, 4), (5, 4), (6, 4), (7, 4), (8, 4)], [(0, 5), (0, 6), (0, 7), (0, 8)], [(0, 3), (0, 2), (0, 1), (0, 0)]]\n"
     ]
    }
   ],
   "source": [
    "Kyosha = KomaMove[4].MovableList((0,4),2)\n",
    "print(Kyosha)"
   ]
  },
  {
   "cell_type": "code",
   "execution_count": 309,
   "id": "8c98c740",
   "metadata": {},
   "outputs": [],
   "source": [
    "FinalList = KomaMove[4].ReflectBoard(Kyosha,Board,(0,4))"
   ]
  },
  {
   "cell_type": "code",
   "execution_count": 310,
   "id": "da4f65bb",
   "metadata": {},
   "outputs": [
    {
     "name": "stdout",
     "output_type": "stream",
     "text": [
      "[[(1, 4), (2, 4), (3, 4), (4, 4), (5, 4), (6, 4)]]\n"
     ]
    }
   ],
   "source": [
    "print(FinalList)"
   ]
  },
  {
   "cell_type": "markdown",
   "id": "6eb8e7f7",
   "metadata": {},
   "source": [
    "Shogi.PrintBoard()"
   ]
  },
  {
   "cell_type": "code",
   "execution_count": 311,
   "id": "e4e3ab7c",
   "metadata": {},
   "outputs": [
    {
     "data": {
      "text/plain": [
       "[[(1, 4), (2, 4), (3, 4), (4, 4), (5, 4), (6, 4)]]"
      ]
     },
     "execution_count": 311,
     "metadata": {},
     "output_type": "execute_result"
    }
   ],
   "source": [
    "KomaMove[4].GetMovableList((0,4),2,Board)"
   ]
  },
  {
   "cell_type": "markdown",
   "id": "cd486560",
   "metadata": {},
   "source": []
  }
 ],
 "metadata": {
  "kernelspec": {
   "display_name": "Python 3 (ipykernel)",
   "language": "python",
   "name": "python3"
  },
  "language_info": {
   "codemirror_mode": {
    "name": "ipython",
    "version": 3
   },
   "file_extension": ".py",
   "mimetype": "text/x-python",
   "name": "python",
   "nbconvert_exporter": "python",
   "pygments_lexer": "ipython3",
   "version": "3.8.12"
  }
 },
 "nbformat": 4,
 "nbformat_minor": 5
}
