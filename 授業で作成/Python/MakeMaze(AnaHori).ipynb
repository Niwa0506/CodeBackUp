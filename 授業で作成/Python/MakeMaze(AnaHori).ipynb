{
 "cells": [
  {
   "cell_type": "code",
   "execution_count": 88,
   "id": "2dbf1879",
   "metadata": {},
   "outputs": [],
   "source": [
    "import numpy as np\n",
    "import random\n",
    "class Maze:\n",
    "    @property\n",
    "    def Width(self):\n",
    "        pass\n",
    "    @Width.setter\n",
    "    def Width(self,Width):\n",
    "        self.__Width = Width\n",
    "    @Width.getter\n",
    "    def Width(self):\n",
    "        return self.__Width\n",
    "    \n",
    "    @property\n",
    "    def Height(self):\n",
    "        pass\n",
    "    @Height.setter\n",
    "    def Height(self,Height):\n",
    "        self.__Height = Height\n",
    "    @Height.getter\n",
    "    def Height(self):\n",
    "        return self.__Height\n",
    "    \n",
    "class MazeCreater_Dig(Maze):\n",
    "    \n",
    "    #初期化\n",
    "    def __init__(self,width,height):\n",
    "        if width < 5 or height < 5:\n",
    "            pass\n",
    "        \n",
    "        #初期値調整\n",
    "        if width % 2 == 0:\n",
    "            width+=1\n",
    "        if height % 2 == 0:\n",
    "            height+=1\n",
    "            \n",
    "        #初期値セット\n",
    "        self.Height = height\n",
    "        self.Width  = width\n",
    "        self.__Maze = np.ones((width,height))\n",
    "        self.__StartCells = []\n",
    "        self.Path = 0\n",
    "        self.Wall = 1\n",
    "        self.Direction = {\"Up\":0,\"Right\":1,\"Down\":2,\"Left\":3}\n",
    "        \n",
    "    #デバッグ用\n",
    "    def Debug(self):\n",
    "        print(\"Height\")\n",
    "        print(self.Height)\n",
    "        print(\"Width\")\n",
    "        print(self.Width)\n",
    "        print(\"Maze\")\n",
    "        #output = [[\"■\" for y in range(self.Height)] for x in range(self.Width)]\n",
    "        \"\"\"\n",
    "        for y in range(self.Height):\n",
    "            output=[]\n",
    "            for x in range(self.Width):\n",
    "                if self.__Maze[x,y] == 0:\n",
    "                    output.append(\"□\")\n",
    "                else:\n",
    "                    output.append(\"■\")\n",
    "            print(output)\n",
    "        \"\"\"\n",
    "        for y in range(self.Height):\n",
    "            output = \"\"\n",
    "            for x in range(self.Width):\n",
    "                if self.__Maze[x,y]==0:\n",
    "                    output += \" \"\n",
    "                else:\n",
    "                    output += \"■\"\n",
    "            print(output)\n",
    "        #print(output)\n",
    "        print(\"StartCells\")\n",
    "        for Cell in self.__StartCells:\n",
    "            print(\"(\"+str(Cell.X)+\")\"+\"(\"+str(Cell.Y)+\")\")\n",
    "        print(\"---------\")\n",
    "    \n",
    "    #迷路作成\n",
    "    def CreateMaze(self):\n",
    "        #外周を道にして、それ以外を壁にする。\n",
    "        for y in range(self.Height):\n",
    "            for x in range(self.Width):\n",
    "                if (x==0 or y==0 or x == self.Width-1 or y == self.Height-1):\n",
    "                    self.__Maze[x,y] = self.Path\n",
    "                else:\n",
    "                    self.__Maze[x,y] = self.Wall\n",
    "        \n",
    "        #道を作る。\n",
    "        self.Dig(1,1)\n",
    "        \n",
    "        #外周を壁にする\n",
    "        for y in range(self.Height):\n",
    "            for x in range(self.Width):\n",
    "                if (x==0 or y==0 or x == self.Width-1 or y == self.Height-1):\n",
    "                    self.__Maze[x,y] = self.Wall\n",
    "                    \n",
    "        #スタート地点とゴール地点を設定する\n",
    "        self.__Maze[1,0] = self.Path\n",
    "        self.__Maze[self.Width-2,self.Height-1] = self.Path\n",
    "        return self.__Maze\n",
    "    \n",
    "    #穴掘り\n",
    "    def Dig(self,x,y):\n",
    "        while True:\n",
    "            #self.Debug()\n",
    "            directions = []\n",
    "            #進める方向を配列directionsに格納する\n",
    "            self.MakeDirections(x,y,directions)\n",
    "            #進める方向がないならループを終了する\n",
    "            if len(directions) == 0:\n",
    "                break\n",
    "            #現在地を道にセットする\n",
    "            self.SetPath(x,y)\n",
    "            #進める方向から1方向を取り出す\n",
    "            dirIndex = random.randrange(len(directions))\n",
    "            #取り出した方向へ2マス分道を作る\n",
    "            if directions[dirIndex] == self.Direction[\"Up\"]:\n",
    "                path_y = y-1\n",
    "                self.SetPath(x,path_y)\n",
    "                path_y -= 1 \n",
    "                self.SetPath(x,path_y)\n",
    "            elif directions[dirIndex] == self.Direction[\"Right\"]:\n",
    "                path_x =x+1\n",
    "                self.SetPath(path_x,y)\n",
    "                path_x +=1\n",
    "                self.SetPath(path_x,y)\n",
    "            elif directions[dirIndex] == self.Direction[\"Down\"]:\n",
    "                path_y = y+1\n",
    "                self.SetPath(x,path_y)\n",
    "                path_y += 1 \n",
    "                self.SetPath(x,path_y)\n",
    "            else:\n",
    "                path_x = x-1\n",
    "                self.SetPath(path_x,y)\n",
    "                path_x -=1\n",
    "                self.SetPath(path_x,y)\n",
    "            #掘り進めることができる場所を探索する\n",
    "            cell = self.GetStartCell()\n",
    "            #掘り進めることができる場所があるならそこから再帰的に処理を開始する\n",
    "            if cell != \"NULL\":\n",
    "                self.Dig(cell.X,cell.Y)\n",
    "    #進むことのできる方向を取り出す\n",
    "    def MakeDirections(self,x,y,directions):\n",
    "        if(self.__Maze[x,y-1]==self.Wall and self.__Maze[x,y-2]==self.Wall):\n",
    "            directions.append(self.Direction[\"Up\"])\n",
    "        if(self.__Maze[x+1,y]==self.Wall and self.__Maze[x+2,y]==self.Wall):\n",
    "            directions.append(self.Direction[\"Right\"])\n",
    "        if(self.__Maze[x,y+1]==self.Wall and self.__Maze[x,y+2]==self.Wall):\n",
    "            directions.append(self.Direction[\"Down\"])\n",
    "        if(self.__Maze[x-1,y]==self.Wall and self.__Maze[x-2,y]==self.Wall):\n",
    "            directions.append(self.Direction[\"Left\"])\n",
    "           \n",
    "    #道を作る\n",
    "    def SetPath(self,x,y):\n",
    "        #現在地を道にする\n",
    "        self.__Maze[x,y] =  self.Path\n",
    "        \n",
    "        if x%2==1 and y%2==1:\n",
    "            cell =Cell()\n",
    "            cell.X = x\n",
    "            cell.Y = y\n",
    "            self.__StartCells.append(cell)\n",
    "    \n",
    "    #新しい道を探す\n",
    "    def GetStartCell(self):\n",
    "        if len(self.__StartCells)==0:\n",
    "            return \"NULL\"\n",
    "        while len(self.__StartCells)!=0:\n",
    "            index = random.randrange(len(self.__StartCells))\n",
    "            cell = self.__StartCells[index]\n",
    "            self.__StartCells.pop(index)\n",
    "            directions = []\n",
    "            self.MakeDirections(cell.X,cell.Y,directions)\n",
    "            if len(directions) !=0:\n",
    "                return cell\n",
    "        return \"NULL\"\n",
    "    def GetMaze(self):\n",
    "        return self.__Maze"
   ]
  },
  {
   "cell_type": "code",
   "execution_count": 7,
   "id": "c13d26e3",
   "metadata": {},
   "outputs": [],
   "source": [
    "class Cell:\n",
    "    @property\n",
    "    def X(self):\n",
    "        pass\n",
    "    \n",
    "    @X.setter\n",
    "    def X(self,x):\n",
    "        self.__x = x\n",
    "\n",
    "    @X.getter\n",
    "    def X(self):\n",
    "        return self.__x\n",
    "    \n",
    "    @property\n",
    "    def Y(self):\n",
    "        pass\n",
    "    \n",
    "    @Y.setter\n",
    "    def Y(self,y):\n",
    "        self.__y = y\n",
    "    \n",
    "    @Y.getter\n",
    "    def Y(self):\n",
    "        return self.__y"
   ]
  },
  {
   "cell_type": "code",
   "execution_count": 8,
   "id": "11d5f60f",
   "metadata": {},
   "outputs": [],
   "source": [
    "import numpy as np"
   ]
  },
  {
   "cell_type": "code",
   "execution_count": 161,
   "id": "2460fa02",
   "metadata": {
    "scrolled": false
   },
   "outputs": [],
   "source": [
    "height = 120\n",
    "width = 60\n",
    "creator = MazeCreater_Dig(height,width)\n",
    "maze = creator.CreateMaze()\n",
    "#creator.Debug()"
   ]
  },
  {
   "cell_type": "code",
   "execution_count": 135,
   "id": "8e0e0841",
   "metadata": {},
   "outputs": [
    {
     "name": "stdout",
     "output_type": "stream",
     "text": [
      "0\n"
     ]
    }
   ],
   "source": [
    "n=0\n",
    "while True:\n",
    "    print(n)\n",
    "    n+=1\n",
    "    break"
   ]
  },
  {
   "cell_type": "code",
   "execution_count": 152,
   "id": "cb0bd195",
   "metadata": {},
   "outputs": [
    {
     "name": "stdout",
     "output_type": "stream",
     "text": [
      "1\n"
     ]
    }
   ],
   "source": [
    "cell = Cell()\n",
    "cell.X = 1\n",
    "cell.Y = 2\n",
    "lst = [cell]\n",
    "print(len(lst))"
   ]
  },
  {
   "cell_type": "code",
   "execution_count": 139,
   "id": "4853861a",
   "metadata": {},
   "outputs": [
    {
     "name": "stdout",
     "output_type": "stream",
     "text": [
      "Height\n",
      "11\n",
      "Width\n",
      "21\n",
      "Maze\n",
      "■ ■■■■■■■■■■■■■■■■■■■\n",
      "■     ■       ■     ■\n",
      "■ ■■■■■ ■■■■■■■ ■■■ ■\n",
      "■         ■ ■     ■ ■\n",
      "■ ■ ■■■■■■■ ■ ■■■■■ ■\n",
      "■ ■       ■       ■ ■\n",
      "■ ■■■■■■■■■ ■■■■■ ■ ■\n",
      "■     ■ ■       ■ ■ ■\n",
      "■ ■■■■■ ■ ■■■■■■■ ■■■\n",
      "■               ■   ■\n",
      "■■■■■■■■■■■■■■■■■■■ ■\n",
      "StartCells\n",
      "---------\n"
     ]
    }
   ],
   "source": [
    "creator.Debug()"
   ]
  },
  {
   "cell_type": "code",
   "execution_count": 162,
   "id": "1926c00c",
   "metadata": {},
   "outputs": [],
   "source": [
    "Maze = creator.GetMaze()\n",
    "x = width\n",
    "y = height"
   ]
  },
  {
   "cell_type": "code",
   "execution_count": 107,
   "id": "de0a19ae",
   "metadata": {},
   "outputs": [],
   "source": [
    "import matplotlib.pyplot as plt\n",
    "import numpy as np\n",
    "def img_show(img:np.ndarray,cmap = 'gray',vmin=0,vmax=255,interpolation='none')->None:\n",
    "    img = np.clip(img,vmin,vmax).astype(np.uint8)\n",
    "         \n",
    "    plt.imshow(img,cmap = cmap,vmin=vmin,vmax=vmax,interpolation=interpolation)\n",
    "    #画像を表示\n",
    "    plt.show()\n",
    "    plt.close()"
   ]
  },
  {
   "cell_type": "code",
   "execution_count": 163,
   "id": "e28f0929",
   "metadata": {},
   "outputs": [],
   "source": [
    "Maze = Maze.T"
   ]
  },
  {
   "cell_type": "code",
   "execution_count": 164,
   "id": "4f01105a",
   "metadata": {},
   "outputs": [],
   "source": [
    "for j in range(y+1):\n",
    "    for i in range(x+1):\n",
    "        Maze[i][j]=1-Maze[i][j]"
   ]
  },
  {
   "cell_type": "code",
   "execution_count": 165,
   "id": "dc217d6c",
   "metadata": {},
   "outputs": [
    {
     "data": {
      "image/png": "[encoded data removed]",
      "text/plain": [
       "<Figure size 432x288 with 1 Axes>"
      ]
     },
     "metadata": {
      "needs_background": "light"
     },
     "output_type": "display_data"
    }
   ],
   "source": [
    "img_show(255*Maze)"
   ]
  },
  {
   "cell_type": "code",
   "execution_count": 110,
   "id": "10d13bf0",
   "metadata": {},
   "outputs": [
    {
     "name": "stdout",
     "output_type": "stream",
     "text": [
      "[[0 0 0 ... 0 0 0]\n",
      " [0 0 0 ... 0 0 0]\n",
      " [0 0 0 ... 0 0 0]\n",
      " ...\n",
      " [0 0 0 ... 0 0 0]\n",
      " [0 0 0 ... 0 0 0]\n",
      " [0 0 0 ... 0 0 0]]\n"
     ]
    }
   ],
   "source": [
    "x,y = np.mgrid[:100,:100]\n",
    "x_0,y_0 = (50,60)\n",
    "x_size,y_size = (10,20)\n",
    "\n",
    "rect = ((2*abs(x-x_0)<x_size) & (2*abs(y-y_0)<y_size)).astype(np.uint8)\n",
    "img_show(rect*255)"
   ]
  },
  {
   "cell_type": "code",
   "execution_count": null,
   "id": "33c31850",
   "metadata": {},
   "outputs": [],
   "source": []
  }
 ],
 "metadata": {
  "kernelspec": {
   "display_name": "Python 3 (ipykernel)",
   "language": "python",
   "name": "python3"
  },
  "language_info": {
   "codemirror_mode": {
    "name": "ipython",
    "version": 3
   },
   "file_extension": ".py",
   "mimetype": "text/x-python",
   "name": "python",
   "nbconvert_exporter": "python",
   "pygments_lexer": "ipython3",
   "version": "3.8.12"
  }
 },
 "nbformat": 4,
 "nbformat_minor": 5
}
