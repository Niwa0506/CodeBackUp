{
 "cells": [
  {
   "cell_type": "code",
   "execution_count": 21,
   "id": "cdcc75f7",
   "metadata": {},
   "outputs": [],
   "source": [
    "import numpy as np\n",
    "import random"
   ]
  },
  {
   "cell_type": "code",
   "execution_count": 1,
   "id": "87972b98",
   "metadata": {},
   "outputs": [],
   "source": [
    "class Maze:\n",
    "    @property\n",
    "    def Width(self):\n",
    "        pass\n",
    "    @Width.setter\n",
    "    def Width(self,Width):\n",
    "        self.__Width = Width\n",
    "    @Width.getter\n",
    "    def Width(self):\n",
    "        return self.__Width\n",
    "    \n",
    "    @property\n",
    "    def Height(self):\n",
    "        pass\n",
    "    @Height.setter\n",
    "    def Height(self,Height):\n",
    "        self.__Height = Height\n",
    "    @Height.getter\n",
    "    def Height(self):\n",
    "        return self.__Height"
   ]
  },
  {
   "cell_type": "code",
   "execution_count": 238,
   "id": "7d554ba2",
   "metadata": {},
   "outputs": [],
   "source": [
    "\n",
    "class WallExtend(Maze):\n",
    "    def __init__(self,width,height):\n",
    "        #サイズ調整\n",
    "        if width<5:\n",
    "            width = 5\n",
    "        if height<5:\n",
    "            height = 5\n",
    "        if width%2==0:\n",
    "            width+=1\n",
    "        if height%2==0:\n",
    "            height+=1\n",
    "        #初期値設定\n",
    "        self.Width = width\n",
    "        self.Height = height\n",
    "        self.__Maze = np.zeros((width,height))\n",
    "        self.Wall = 1\n",
    "        self.Path = 0\n",
    "        self.Candidate = []\n",
    "        self.CurrentWallCells = []\n",
    "        self.Direction = {\"Up\":0,\"Right\":1,\"Down\":2,\"Left\":3}\n",
    "    #メイン関数\n",
    "    def MazeMake(self):\n",
    "        #基盤となる迷路を作る\n",
    "        self.MakeBaseMaze()\n",
    "        #壁伸ばし処理\n",
    "        self.Extend()\n",
    "        self.__Maze[1,0] = self.Path\n",
    "        self.__Maze[self.Width-2,self.Height-1] = self.Path\n",
    "        \n",
    "    def NextStep(self):\n",
    "        self.__Maze[1,0] = self.Wall\n",
    "        self.__Maze[self.Width-2,self.Height-1] = self.Wall\n",
    "        for y in range(self.Height):\n",
    "            for x in range(self.Width):\n",
    "                if x == 0 or y == 0 or x == self.Width-1 or y == self.Height-1:\n",
    "                    pass\n",
    "                else:\n",
    "                    if x%2==0 and y %2==0 and self.__Maze[x,y]==self.Path:\n",
    "                        cell = {\"X\":x,\"Y\":y}\n",
    "                        self.Candidate.append(cell)\n",
    "        self.Extend()\n",
    "        self.__Maze[1,0] = self.Path\n",
    "        self.__Maze[self.Width-2,self.Height-1] = self.Path\n",
    "        \n",
    "    #迷路の外形を作る        \n",
    "    def MakeBaseMaze(self):\n",
    "        for y in range(self.Height):\n",
    "            for x in range(self.Width):\n",
    "                if x == 0 or y == 0 or x == self.Width-1 or y == self.Height-1:\n",
    "                    self.__Maze[x,y] = self.Wall\n",
    "                else:\n",
    "                    self.__Maze[x,y] = self.Path\n",
    "                    if x%2==0 and y %2==0:\n",
    "                        cell = {\"X\":x,\"Y\":y}\n",
    "                        self.Candidate.append(cell)\n",
    "    def Extend(self):\n",
    "        n = 0\n",
    "        while len(self.Candidate)!=0:\n",
    "            index = random.randrange(len(self.Candidate))\n",
    "            cell = self.Candidate.pop(index)\n",
    "            x = cell[\"X\"]\n",
    "            y = cell[\"Y\"]\n",
    "            \n",
    "            if self.__Maze[x,y]==self.Path:\n",
    "                self.CurrentWallCells = []\n",
    "                self.ExtendWall(x,y)\n",
    "    def SetWall(self,x,y):\n",
    "        self.__Maze[x,y] = self.Wall\n",
    "        if x%2==0 and y %2==0:\n",
    "            self.CurrentWallCells.append({\"X\":x,\"Y\":y})\n",
    "            \n",
    "    def MakeDirections(self,directions,x,y):\n",
    "        if self.__Maze[x,y-1]==self.Path and self.IsCurrentWall(x,y-2)==0:\n",
    "            directions.append(self.Direction[\"Up\"])\n",
    "        if  self.__Maze[x+1,y]==self.Path and self.IsCurrentWall(x+2,y)==0:\n",
    "            directions.append(self.Direction[\"Right\"])\n",
    "        if  self.__Maze[x,y+1]==self.Path and self.IsCurrentWall(x,y+2)==0:\n",
    "            directions.append(self.Direction[\"Down\"])\n",
    "        if  self.__Maze[x-1,y]==self.Path and self.IsCurrentWall(x-2,y)==0:\n",
    "            directions.append(self.Direction[\"Left\"])\n",
    "        return directions\n",
    "    \n",
    "    def ExtendWall(self,x,y):\n",
    "        #進むことのできる方向を取得\n",
    "        directions = []\n",
    "        directions = self.MakeDirections(directions,x,y)\n",
    "        #進行できるなら\n",
    "        if len(directions)!=0:\n",
    "            self.SetWall(x,y)\n",
    "            isPath = 0\n",
    "            #該当する方向への処理を実行\n",
    "            x,y,isPath = self.JudgeDirection(x,y,directions,isPath)\n",
    "            #進んだ先が通路なら再帰的に処理を実行\n",
    "            if isPath==1:\n",
    "                self.ExtendWall(x,y)\n",
    "        #進行できないなら\n",
    "        else:\n",
    "            beforeCell = self.CurrentWallCells.pop()\n",
    "            self.ExtendWall(beforeCell[\"X\"],beforeCell[\"Y\"])\n",
    "            \n",
    "    def JudgeDirection(self,x,y,directions,isPath):\n",
    "        dirIndex = random.randrange(len(directions))\n",
    "        #進行方向が上なら\n",
    "        if directions[dirIndex] == self.Direction[\"Up\"]:\n",
    "            if self.__Maze[x,y-2] == self.Path:\n",
    "                isPath = 1\n",
    "            y = y-1\n",
    "            self.SetWall(x,y)\n",
    "            y = y-1\n",
    "            self.SetWall(x,y)\n",
    "        #進行方向が右なら   \n",
    "        elif directions[dirIndex] == self.Direction[\"Right\"]:\n",
    "            if self.__Maze[x+2,y] == self.Path:\n",
    "                isPath = 1\n",
    "            x = x+1\n",
    "            self.SetWall(x,y)\n",
    "            x = x+1\n",
    "            self.SetWall(x,y)\n",
    "        #進行方向が下なら    \n",
    "        elif directions[dirIndex] == self.Direction[\"Down\"]:\n",
    "            if self.__Maze[x,y+2] == self.Path:\n",
    "                isPath = 1\n",
    "            y = y+1\n",
    "            self.SetWall(x,y)\n",
    "            y = y+1\n",
    "            self.SetWall(x,y)\n",
    "        #進行方向が左なら\n",
    "        elif directions[dirIndex] == self.Direction[\"Left\"]:\n",
    "            if self.__Maze[x-2,y] == self.Path:\n",
    "                isPath = 1\n",
    "            x = x-1\n",
    "            self.SetWall(x,y)\n",
    "            x = x-1\n",
    "            self.SetWall(x,y)\n",
    "        return x,y,isPath\n",
    "            \n",
    "    def IsCurrentWall(self,x,y):\n",
    "        for i in range(len(self.CurrentWallCells)):\n",
    "            cell = self.CurrentWallCells[i]\n",
    "            if cell[\"X\"] == x and cell[\"Y\"] == y:\n",
    "                return 1\n",
    "        return 0\n",
    "    \n",
    "    def GetMaze(self):\n",
    "        return self.__Maze"
   ]
  },
  {
   "cell_type": "code",
   "execution_count": 45,
   "id": "165b7c04",
   "metadata": {},
   "outputs": [],
   "source": [
    "import matplotlib.pyplot as plt\n",
    "import numpy as np\n",
    "def img_show(img:np.ndarray,cmap = 'gray',vmin=0,vmax=255,interpolation='none')->None:\n",
    "    img = np.clip(img,vmin,vmax).astype(np.uint8)\n",
    "         \n",
    "    plt.imshow(img,cmap = cmap,vmin=vmin,vmax=vmax,interpolation=interpolation)\n",
    "    #画像を表示\n",
    "    plt.show()\n",
    "    plt.close()"
   ]
  },
  {
   "cell_type": "code",
   "execution_count": 158,
   "id": "c803f33b",
   "metadata": {},
   "outputs": [],
   "source": [
    "import copy\n",
    "def Debug(maze,width,height):\n",
    "    m = copy.deepcopy(maze.T)\n",
    "    for j in range(width+1):\n",
    "        for i in range(height+1):\n",
    "            m[i][j]=1-m[i][j]\n",
    "    img_show(255*m)"
   ]
  },
  {
   "cell_type": "code",
   "execution_count": 12,
   "id": "f04c8ed8",
   "metadata": {},
   "outputs": [],
   "source": [
    "cell = {\"X\":1,\"Y\":2}"
   ]
  },
  {
   "cell_type": "code",
   "execution_count": 13,
   "id": "46b13205",
   "metadata": {},
   "outputs": [
    {
     "name": "stdout",
     "output_type": "stream",
     "text": [
      "1\n"
     ]
    }
   ],
   "source": [
    "print(cell[\"X\"])"
   ]
  },
  {
   "cell_type": "code",
   "execution_count": 4,
   "id": "f899a771",
   "metadata": {},
   "outputs": [],
   "source": [
    "apend = []\n",
    "apend.append(cell)"
   ]
  },
  {
   "cell_type": "code",
   "execution_count": 241,
   "id": "a8606b5f",
   "metadata": {},
   "outputs": [],
   "source": [
    "width = 120\n",
    "height = 60\n",
    "creator = WallExtend(width,height)\n",
    "creator.MazeMake()\n",
    "maze = creator.GetMaze()"
   ]
  },
  {
   "cell_type": "code",
   "execution_count": 242,
   "id": "7f2eb40b",
   "metadata": {},
   "outputs": [
    {
     "data": {
      "image/png": "[encoded data removed]",
      "text/plain": [
       "<Figure size 432x288 with 1 Axes>"
      ]
     },
     "metadata": {
      "needs_background": "light"
     },
     "output_type": "display_data"
    }
   ],
   "source": [
    "Debug(maze,width,height)"
   ]
  },
  {
   "cell_type": "code",
   "execution_count": 228,
   "id": "e8b53f2c",
   "metadata": {},
   "outputs": [
    {
     "data": {
      "image/png": "[encoded data removed]",
      "text/plain": [
       "<Figure size 432x288 with 1 Axes>"
      ]
     },
     "metadata": {
      "needs_background": "light"
     },
     "output_type": "display_data"
    }
   ],
   "source": [
    "Debug(maze,width,height)"
   ]
  },
  {
   "cell_type": "code",
   "execution_count": null,
   "id": "39b24af8",
   "metadata": {},
   "outputs": [],
   "source": []
  }
 ],
 "metadata": {
  "kernelspec": {
   "display_name": "Python 3 (ipykernel)",
   "language": "python",
   "name": "python3"
  },
  "language_info": {
   "codemirror_mode": {
    "name": "ipython",
    "version": 3
   },
   "file_extension": ".py",
   "mimetype": "text/x-python",
   "name": "python",
   "nbconvert_exporter": "python",
   "pygments_lexer": "ipython3",
   "version": "3.8.12"
  }
 },
 "nbformat": 4,
 "nbformat_minor": 5
}
