{
 "cells": [
  {
   "cell_type": "code",
   "execution_count": 20,
   "id": "6d2f4f59",
   "metadata": {},
   "outputs": [
    {
     "name": "stdout",
     "output_type": "stream",
     "text": [
      "年齢を教えてください19\n",
      "18歳以上です\n"
     ]
    }
   ],
   "source": [
    "age = int(input(\"年齢を教えてください\"))\n",
    "if age < 18:\n",
    "    print(\"18歳以下です\")\n",
    "else:\n",
    "    print(\"18歳以上です\")"
   ]
  },
  {
   "cell_type": "code",
   "execution_count": 27,
   "id": "d67a8812",
   "metadata": {},
   "outputs": [
    {
     "data": {
      "text/plain": [
       "1"
      ]
     },
     "execution_count": 27,
     "metadata": {},
     "output_type": "execute_result"
    }
   ],
   "source": []
  },
  {
   "cell_type": "code",
   "execution_count": null,
   "id": "078dce90",
   "metadata": {},
   "outputs": [],
   "source": []
  }
 ],
 "metadata": {
  "kernelspec": {
   "display_name": "Python 3",
   "language": "python",
   "name": "python3"
  },
  "language_info": {
   "codemirror_mode": {
    "name": "ipython",
    "version": 3
   },
   "file_extension": ".py",
   "mimetype": "text/x-python",
   "name": "python",
   "nbconvert_exporter": "python",
   "pygments_lexer": "ipython3",
   "version": "3.8.8"
  }
 },
 "nbformat": 4,
 "nbformat_minor": 5
}
